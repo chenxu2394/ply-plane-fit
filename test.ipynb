{
 "cells": [
  {
   "cell_type": "code",
   "execution_count": 3,
   "metadata": {},
   "outputs": [
    {
     "name": "stdout",
     "output_type": "stream",
     "text": [
      "Collecting pyrealsense2\n",
      "  Downloading pyrealsense2-2.55.1.6486-cp311-cp311-win_amd64.whl.metadata (1.9 kB)\n",
      "Downloading pyrealsense2-2.55.1.6486-cp311-cp311-win_amd64.whl (2.8 MB)\n",
      "   ---------------------------------------- 0.0/2.8 MB ? eta -:--:--\n",
      "   ---------------------------------------- 0.0/2.8 MB 660.6 kB/s eta 0:00:05\n",
      "   - -------------------------------------- 0.1/2.8 MB 1.1 MB/s eta 0:00:03\n",
      "   --- ------------------------------------ 0.3/2.8 MB 2.3 MB/s eta 0:00:02\n",
      "   ------ --------------------------------- 0.4/2.8 MB 2.4 MB/s eta 0:00:01\n",
      "   -------- ------------------------------- 0.6/2.8 MB 2.6 MB/s eta 0:00:01\n",
      "   ---------- ----------------------------- 0.7/2.8 MB 2.7 MB/s eta 0:00:01\n",
      "   ----------- ---------------------------- 0.8/2.8 MB 2.7 MB/s eta 0:00:01\n",
      "   -------------- ------------------------- 1.0/2.8 MB 2.8 MB/s eta 0:00:01\n",
      "   ---------------- ----------------------- 1.1/2.8 MB 2.8 MB/s eta 0:00:01\n",
      "   ------------------ --------------------- 1.3/2.8 MB 2.8 MB/s eta 0:00:01\n",
      "   -------------------- ------------------- 1.4/2.8 MB 2.8 MB/s eta 0:00:01\n",
      "   ---------------------- ----------------- 1.6/2.8 MB 2.9 MB/s eta 0:00:01\n",
      "   ------------------------ --------------- 1.7/2.8 MB 2.9 MB/s eta 0:00:01\n",
      "   -------------------------- ------------- 1.9/2.8 MB 2.9 MB/s eta 0:00:01\n",
      "   ---------------------------- ----------- 2.0/2.8 MB 2.9 MB/s eta 0:00:01\n",
      "   ------------------------------ --------- 2.1/2.8 MB 3.0 MB/s eta 0:00:01\n",
      "   -------------------------------- ------- 2.3/2.8 MB 2.9 MB/s eta 0:00:01\n",
      "   ----------------------------------- ---- 2.4/2.8 MB 2.9 MB/s eta 0:00:01\n",
      "   ------------------------------------ --- 2.6/2.8 MB 3.0 MB/s eta 0:00:01\n",
      "   ------------------------------------- -- 2.6/2.8 MB 3.0 MB/s eta 0:00:01\n",
      "   ---------------------------------------  2.8/2.8 MB 2.9 MB/s eta 0:00:01\n",
      "   ---------------------------------------  2.8/2.8 MB 2.9 MB/s eta 0:00:01\n",
      "   ---------------------------------------- 2.8/2.8 MB 2.7 MB/s eta 0:00:00\n",
      "Installing collected packages: pyrealsense2\n",
      "Successfully installed pyrealsense2-2.55.1.6486\n",
      "Note: you may need to restart the kernel to use updated packages.\n"
     ]
    },
    {
     "name": "stderr",
     "output_type": "stream",
     "text": [
      "\n",
      "[notice] A new release of pip is available: 24.0 -> 24.3.1\n",
      "[notice] To update, run: python.exe -m pip install --upgrade pip\n"
     ]
    }
   ],
   "source": [
    "%pip install pyrealsense2"
   ]
  },
  {
   "cell_type": "code",
   "execution_count": 4,
   "metadata": {},
   "outputs": [],
   "source": [
    "import pyrealsense2 as rs"
   ]
  },
  {
   "cell_type": "code",
   "execution_count": 5,
   "metadata": {},
   "outputs": [
    {
     "name": "stdout",
     "output_type": "stream",
     "text": [
      "c:\\Users\\Chen\\Documents\n"
     ]
    }
   ],
   "source": [
    "import os\n",
    "# print current working directory\n",
    "print(os.getcwd())"
   ]
  },
  {
   "cell_type": "code",
   "execution_count": 9,
   "metadata": {},
   "outputs": [],
   "source": [
    "import pyrealsense2 as rs\n",
    "\n",
    "# Create a pipeline\n",
    "pipeline = rs.pipeline()\n",
    "\n",
    "# Create a config and configure the pipeline to stream\n",
    "# different modalities\n",
    "config = rs.config()\n",
    "\n",
    "# Tell config that we will use a recorded device from filem to be used by the pipeline through playback.\n",
    "rs.config.enable_device_from_file(config, './20241109_184907.bag')\n",
    "\n",
    "# Start streaming from file\n",
    "profile = pipeline.start(config)"
   ]
  },
  {
   "cell_type": "code",
   "execution_count": null,
   "metadata": {},
   "outputs": [],
   "source": [
    "# Streaming loop\n",
    "try:\n",
    "    while True:\n",
    "        # Get frameset of color and depth\n",
    "        frames = pipeline.wait_for_frames()\n",
    "        depth = frames.get_depth_frame()\n",
    "        color = frames.get_color_frame()\n",
    "\n",
    "        if not depth or not color:\n",
    "            continue\n",
    "\n",
    "        # Do processing here\n",
    "\n",
    "finally:\n",
    "    pipeline.stop()"
   ]
  }
 ],
 "metadata": {
  "kernelspec": {
   "display_name": "Python 3",
   "language": "python",
   "name": "python3"
  },
  "language_info": {
   "codemirror_mode": {
    "name": "ipython",
    "version": 3
   },
   "file_extension": ".py",
   "mimetype": "text/x-python",
   "name": "python",
   "nbconvert_exporter": "python",
   "pygments_lexer": "ipython3",
   "version": "3.11.9"
  }
 },
 "nbformat": 4,
 "nbformat_minor": 2
}
